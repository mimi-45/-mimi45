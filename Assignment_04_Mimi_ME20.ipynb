{
  "nbformat": 4,
  "nbformat_minor": 0,
  "metadata": {
    "colab": {
      "name": "Assignment 04.Mimi_ME20",
      "provenance": [],
      "collapsed_sections": [],
      "authorship_tag": "ABX9TyOLXtHnkgzB478eT/xGWK0z",
      "include_colab_link": true
    },
    "kernelspec": {
      "name": "python3",
      "display_name": "Python 3"
    },
    "language_info": {
      "name": "python"
    }
  },
  "cells": [
    {
      "cell_type": "markdown",
      "metadata": {
        "id": "view-in-github",
        "colab_type": "text"
      },
      "source": [
        "<a href=\"https://colab.research.google.com/github/mimi-45/-mimi45/blob/main/Assignment_04_Mimi_ME20.ipynb\" target=\"_parent\"><img src=\"https://colab.research.google.com/assets/colab-badge.svg\" alt=\"Open In Colab\"/></a>"
      ]
    },
    {
      "cell_type": "code",
      "metadata": {
        "colab": {
          "base_uri": "https://localhost:8080/"
        },
        "id": "qZLwhK7j-YKH",
        "outputId": "572f11f9-68a2-481a-c38b-12daa47d6a5d"
      },
      "source": [
        "#Problem 01.\n",
        "\n",
        "x= int(input(\"Enter the number=\"))\n",
        "\n",
        "if 1000<x<1800 and x % 8 ==0 and x % 3 ==0:\n",
        "  print(\"The number is divisible\")\n",
        "\n",
        "else:\n",
        "     \n",
        " print(\"The number is not divisible\")\n",
        "\n",
        "if 1000<x<1800 and x % 9==0 :\n",
        "  print(\"The number is multiple\")\n",
        "\n",
        "else:\n",
        "  print(\"The number is not multiiple\")\n"
      ],
      "execution_count": 10,
      "outputs": [
        {
          "output_type": "stream",
          "text": [
            "Enter the number=1500\n",
            "The number is not divisible\n",
            "The number is not multiiple\n"
          ],
          "name": "stdout"
        }
      ]
    },
    {
      "cell_type": "code",
      "metadata": {
        "colab": {
          "base_uri": "https://localhost:8080/"
        },
        "id": "h_y3_GuMBHT-",
        "outputId": "b4aaf874-1bd9-45fe-f2d8-3c846d8963b3"
      },
      "source": [
        "#Problem 02.\n",
        "\n",
        "#tuplex=('I', 'E', 'E' , 'E', 'H' , 'S','T','U', 'S','B')\n",
        "tuple=(\"IEEE HSTU SB\")\n",
        "print(tuple)"
      ],
      "execution_count": 12,
      "outputs": [
        {
          "output_type": "stream",
          "text": [
            "IEEE HSTU SB\n"
          ],
          "name": "stdout"
        }
      ]
    },
    {
      "cell_type": "code",
      "metadata": {
        "colab": {
          "base_uri": "https://localhost:8080/"
        },
        "id": "ulqk6y6_CBxH",
        "outputId": "fcb8b38f-8d23-46c7-ebc3-1e36a27a411d"
      },
      "source": [
        "#Problem 03.\n",
        "\n",
        "print(\"Input Lengths of the triangle:\")\n",
        "a= int(input(\"Enter the lengths=\"))\n",
        "b= int(input(\"Enter the lengths=\"))\n",
        "c= int(input(\"Enter the lengths=\"))\n",
        "  \n",
        "if a==b==c :\n",
        "    print(\"The traingle is Equilaternal\")\n",
        "elif a==b or b==c or c==a :\n",
        "    print(\"The traingle is Isosceles\")\n",
        "else:\n",
        "    print(\"The traingle is Scalene\")"
      ],
      "execution_count": 20,
      "outputs": [
        {
          "output_type": "stream",
          "text": [
            "Input Lengths of the triangle:\n",
            "Enter the lengths=5\n",
            "Enter the lengths=10\n",
            "Enter the lengthes=12\n",
            "The traingle is Scalene\n"
          ],
          "name": "stdout"
        }
      ]
    },
    {
      "cell_type": "code",
      "metadata": {
        "colab": {
          "base_uri": "https://localhost:8080/"
        },
        "id": "N8MDUTMkEwBr",
        "outputId": "547d99b9-7e22-474a-d36b-1afc7204cce2"
      },
      "source": [
        "#Problem 04.\n",
        "\n",
        "d={ i:i*1 for i in range(1,11)}\n",
        "print(d)"
      ],
      "execution_count": 26,
      "outputs": [
        {
          "output_type": "stream",
          "text": [
            "{1: 1, 2: 2, 3: 3, 4: 4, 5: 5, 6: 6, 7: 7, 8: 8, 9: 9, 10: 10}\n"
          ],
          "name": "stdout"
        }
      ]
    },
    {
      "cell_type": "code",
      "metadata": {
        "colab": {
          "base_uri": "https://localhost:8080/"
        },
        "id": "5_kIMudgLaGU",
        "outputId": "4ec122f7-8267-4722-cd25-7c8aa398ed3e"
      },
      "source": [
        "#Problem 05.\n",
        "y=int(input(\"Enter the year=\"))\n",
        "if y % 4 == 0 or y % 400 ==0 and y % 100 !=0:\n",
        "  print(\"The year is Leap\")\n",
        "else:\n",
        "  print(\"The year is not Leap\")"
      ],
      "execution_count": 44,
      "outputs": [
        {
          "output_type": "stream",
          "text": [
            "Enter the year=2016\n",
            "The year is Leap\n"
          ],
          "name": "stdout"
        }
      ]
    },
    {
      "cell_type": "code",
      "metadata": {
        "colab": {
          "base_uri": "https://localhost:8080/"
        },
        "id": "wpc9rhZLG6Nh",
        "outputId": "e97c6c1e-113a-40c2-acda-c2c3e02f635d"
      },
      "source": [
        "#Problem 06.\n",
        "#(i).\n",
        "\n",
        "b= int(input(\"Enter the number=\"))\n",
        "h= float(input(\"Enter the number=\"))\n",
        "x= 0.5\n",
        "area= x*b*h\n",
        "print(area , type(area))"
      ],
      "execution_count": 38,
      "outputs": [
        {
          "output_type": "stream",
          "text": [
            "Enter the number=5\n",
            "Enter the number=2.5\n",
            "6.25 <class 'float'>\n"
          ],
          "name": "stdout"
        }
      ]
    },
    {
      "cell_type": "code",
      "metadata": {
        "colab": {
          "base_uri": "https://localhost:8080/"
        },
        "id": "k3xcUzP-Jt1_",
        "outputId": "4141d1e6-383c-4978-a4d6-6b16b0b2d8e2"
      },
      "source": [
        "#(ii).\n",
        "b= int(input(\"Enter the number=\"))\n",
        "h= int(input(\"Enter the number=\"))\n",
        "area= b*h\n",
        "print(area , type(area))\n"
      ],
      "execution_count": 39,
      "outputs": [
        {
          "output_type": "stream",
          "text": [
            "Enter the number=5\n",
            "Enter the number=6\n",
            "30 <class 'int'>\n"
          ],
          "name": "stdout"
        }
      ]
    },
    {
      "cell_type": "code",
      "metadata": {
        "colab": {
          "base_uri": "https://localhost:8080/"
        },
        "id": "woFHgpyUMIBe",
        "outputId": "aabe7351-5a12-4e1b-843d-98e569bd2bd0"
      },
      "source": [
        "#(iii).\n",
        "\n",
        "r=int(input(\"Enter the number=\"))\n",
        "x=3.1416\n",
        "area= x*r**r\n",
        "print(area , type(area))"
      ],
      "execution_count": 42,
      "outputs": [
        {
          "output_type": "stream",
          "text": [
            "Enter the number=5\n",
            "9817.5 <class 'float'>\n"
          ],
          "name": "stdout"
        }
      ]
    }
  ]
}