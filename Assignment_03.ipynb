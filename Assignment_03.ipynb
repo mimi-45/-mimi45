{
  "nbformat": 4,
  "nbformat_minor": 0,
  "metadata": {
    "colab": {
      "name": "Assignment 03.ipynb",
      "provenance": [],
      "collapsed_sections": [],
      "authorship_tag": "ABX9TyPVdHDHyg/UJutWGaoChDkX",
      "include_colab_link": true
    },
    "kernelspec": {
      "name": "python3",
      "display_name": "Python 3"
    },
    "language_info": {
      "name": "python"
    }
  },
  "cells": [
    {
      "cell_type": "markdown",
      "metadata": {
        "id": "view-in-github",
        "colab_type": "text"
      },
      "source": [
        "<a href=\"https://colab.research.google.com/github/mimi-45/-mimi45/blob/main/Assignment_03.ipynb\" target=\"_parent\"><img src=\"https://colab.research.google.com/assets/colab-badge.svg\" alt=\"Open In Colab\"/></a>"
      ]
    },
    {
      "cell_type": "code",
      "metadata": {
        "colab": {
          "base_uri": "https://localhost:8080/"
        },
        "id": "8zLmy9Vk3-VP",
        "outputId": "47885730-fab9-4ecc-c4b8-dcffe159dbfd"
      },
      "source": [
        "\n",
        "#Problem02\n",
        "01.\n",
        "\n",
        "num=int(input(\"Enter the number=\"))\n",
        "if num>=100 and num<200 and num % 9 == 0:\n",
        "       print( \"The number is divisible\")\n",
        "else:\n",
        "     print(\"The numder is not divisible\")\n",
        "\n"
      ],
      "execution_count": 28,
      "outputs": [
        {
          "output_type": "stream",
          "text": [
            "Enter the number=150\n",
            "The numder is not divisible\n"
          ],
          "name": "stdout"
        }
      ]
    },
    {
      "cell_type": "code",
      "metadata": {
        "colab": {
          "base_uri": "https://localhost:8080/"
        },
        "id": "amMqPurXqo2B",
        "outputId": "62234cc0-9e90-45c2-b1dc-495653c3ded6"
      },
      "source": [
        "02.\n",
        "\n",
        "a=int(input(\"Enter the number=\"))\n",
        "if a>100 and a<500 and a % 7 == 0:\n",
        "\n",
        "    print(a , \"is divisible\")\n",
        "\n",
        "else:\n",
        "         print(a , \"is not divisible\")\n",
        "\n",
        "  \n",
        "\n",
        "\n"
      ],
      "execution_count": 86,
      "outputs": [
        {
          "output_type": "stream",
          "text": [
            "Enter the number=250\n",
            "250 is not divisible\n"
          ],
          "name": "stdout"
        }
      ]
    },
    {
      "cell_type": "code",
      "metadata": {
        "colab": {
          "base_uri": "https://localhost:8080/"
        },
        "id": "RPME_Tapv3CS",
        "outputId": "d168d9ba-a278-49f2-9d60-d23b73b091da"
      },
      "source": [
        "#Problem04\n",
        "\n",
        "print(\"\"\" Choose an operation\\n\n",
        "        01. ADDITION\n",
        "        02. Subtraction\n",
        "        03. Multiplication\n",
        "        04. Division\n",
        "\"\"\")\n",
        "operation= int(input(\"Enter 1/2/3/4=\"))\n",
        "x= int(input(\"Enter the First number=\"))\n",
        "y= int(input(\"Enter the Second number\"))\n",
        "\n",
        "if operation==1:\n",
        "   print(\"The result is :\" , x+y)\n",
        "elif opreation==2:\n",
        "  print(\"The result is:\" , x-y)\n",
        "elif operation==3:\n",
        "  print(\"The result is:\", x*y)\n",
        "elif operation==4:\n",
        "  print(\"The result is:\" , x/y)\n",
        "else:\n",
        "   print(\"Not valid operation\")\n",
        "   \n"
      ],
      "execution_count": 51,
      "outputs": [
        {
          "output_type": "stream",
          "text": [
            " Choose an operation\n",
            "\n",
            "        01. ADDITION\n",
            "        02. Subtraction\n",
            "        03. Multiplication\n",
            "        04. Division\n",
            "\n",
            "Enter 1/2/3/4=1\n",
            "Enter the First number=5\n",
            "Enter the Second number8\n",
            "The result is : 13\n"
          ],
          "name": "stdout"
        }
      ]
    },
    {
      "cell_type": "code",
      "metadata": {
        "colab": {
          "base_uri": "https://localhost:8080/"
        },
        "id": "T285cenTzMYJ",
        "outputId": "4de55f41-2a0b-4b83-ffe6-961d669f32b4"
      },
      "source": [
        "#Problem07\n",
        "\n",
        "num1=int(input(\"Enter the First number=\"))\n",
        "num2=int(input(\"Enter the Second number=\"))\n",
        "num3=int(input(\"Enter the Third number=\"))\n",
        "\n",
        "if (num1>=num2) and (num1>=num3):\n",
        "  largest=num1\n",
        "\n",
        "elif (num2>=num1) and (num2>=num3):\n",
        "       largest=num2\n",
        "else:\n",
        "  largest=num3\n",
        "  print(\"The largest number is\" , largest)\n",
        "\n",
        "if (num1<num2) and (num1<num3):\n",
        "     lowest=num1\n",
        "elif (num2<num1) and (num2<num3):\n",
        "   lowest=num2\n",
        "\n",
        "else:\n",
        "   lowest=num3\n",
        "   print(\"The lowest number is\" , lowest)\n"
      ],
      "execution_count": 83,
      "outputs": [
        {
          "output_type": "stream",
          "text": [
            "Enter the First number=5\n",
            "Enter the Second number=7\n",
            "Enter the Third number=9\n",
            "The largest number is 9\n"
          ],
          "name": "stdout"
        }
      ]
    },
    {
      "cell_type": "code",
      "metadata": {
        "colab": {
          "base_uri": "https://localhost:8080/"
        },
        "id": "hIb1NA7U8DI4",
        "outputId": "3e472043-374a-448e-b807-34ad353ce4a7"
      },
      "source": [
        "#Problem08\n",
        "#HSTU Grading Systems:\n",
        "\n",
        "\n",
        "num=int(input(\"Enter the Marks=\"))\n",
        "if num>=0 and num<=40 :\n",
        "   print(\"The grade is F\")\n",
        "elif num>=40 and num<=45 :\n",
        "  print(\"The grade is D\")\n",
        "elif num>=45 and num<=50 :\n",
        "  print(\"The grade is C\")\n",
        "elif num>=50 and num<=55 :\n",
        "  print(\"The grade is C+\")\n",
        "elif num>=55 and num<=60 :\n",
        "  print(\"The grade is B-\")\n",
        "elif num>=60 and num<=65 :\n",
        "   print(\"The grade is B\")\n",
        "elif num>=65 and num<=70:\n",
        "    print(\"The grade is B+\")\n",
        "elif num>=70 and num<=75 :\n",
        "    print(\"The grade is A-\")\n",
        "elif num>=75 and num<=80 :\n",
        "    print(\"The grade is A\")\n",
        "elif num>=80 and num<=100 :\n",
        "    print(\"The grade is A+\")\n",
        "  \n",
        "else:\n",
        "  print(\"Out of Marks\")\n",
        "\n"
      ],
      "execution_count": 95,
      "outputs": [
        {
          "output_type": "stream",
          "text": [
            "Enter the Marks=72\n",
            "The grade is A-\n"
          ],
          "name": "stdout"
        }
      ]
    }
  ]
}