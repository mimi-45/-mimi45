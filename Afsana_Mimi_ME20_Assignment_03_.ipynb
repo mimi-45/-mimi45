{
  "nbformat": 4,
  "nbformat_minor": 0,
  "metadata": {
    "colab": {
      "name": "Afsana Mimi_ME20 Assignment-03 .ipynb",
      "provenance": [],
      "collapsed_sections": [],
      "authorship_tag": "ABX9TyMtfRhPPO9lGx3SINzSlg+7",
      "include_colab_link": true
    },
    "kernelspec": {
      "name": "python3",
      "display_name": "Python 3"
    },
    "language_info": {
      "name": "python"
    }
  },
  "cells": [
    {
      "cell_type": "markdown",
      "metadata": {
        "id": "view-in-github",
        "colab_type": "text"
      },
      "source": [
        "<a href=\"https://colab.research.google.com/github/mimi-45/-mimi45/blob/main/Afsana_Mimi_ME20_Assignment_03_.ipynb\" target=\"_parent\"><img src=\"https://colab.research.google.com/assets/colab-badge.svg\" alt=\"Open In Colab\"/></a>"
      ]
    },
    {
      "cell_type": "code",
      "metadata": {
        "colab": {
          "base_uri": "https://localhost:8080/"
        },
        "id": "0bmT_kYJxJXl",
        "outputId": "8ebc9055-f8cf-412b-f505-5b0c1369ea8b"
      },
      "source": [
        "\n",
        "#Problem01\n",
        "\n",
        "num= int(input(\"Enter the num=\"))\n",
        "if num % 2!= 0:\n",
        "         print(\"The number is odd\")\n",
        "else:\n",
        "     \n",
        "     print(\"The number is even\")"
      ],
      "execution_count": 29,
      "outputs": [
        {
          "output_type": "stream",
          "text": [
            "Enter the num=15\n",
            "The number is odd\n"
          ],
          "name": "stdout"
        }
      ]
    },
    {
      "cell_type": "code",
      "metadata": {
        "colab": {
          "base_uri": "https://localhost:8080/"
        },
        "id": "8zLmy9Vk3-VP",
        "outputId": "2abcb68a-d89e-4996-8ae6-c3d95e4b6e58"
      },
      "source": [
        "\n",
        "#Problem02\n",
        "01.\n",
        "\n",
        "num=int(input(\"Enter the number=\"))\n",
        "if num>=100 and num<200:\n",
        "     if num % 9 == 0:\n",
        "       print(\"num\")\n",
        "else:\n",
        "     print(\"Not num\")\n",
        "\n"
      ],
      "execution_count": 86,
      "outputs": [
        {
          "output_type": "stream",
          "text": [
            "Enter the number=150\n"
          ],
          "name": "stdout"
        }
      ]
    },
    {
      "cell_type": "code",
      "metadata": {
        "colab": {
          "base_uri": "https://localhost:8080/",
          "height": 129
        },
        "id": "FHoMhUyR8j67",
        "outputId": "0f83b308-edca-42a8-fa0b-a70eb0155a78"
      },
      "source": [
        "02.\n",
        "\n",
        "num= int(input(\"Enetr the number=\"))\n",
        "if num>=100 and num<=500:\n",
        "  \n",
        "elif num % 7 == 0:\n",
        "\n",
        "elif num*=5:\n",
        "   \n",
        "          print(\"num\")\n",
        "else:\n",
        "     print(\"Not num\")"
      ],
      "execution_count": 111,
      "outputs": [
        {
          "output_type": "error",
          "ename": "IndentationError",
          "evalue": "ignored",
          "traceback": [
            "\u001b[0;36m  File \u001b[0;32m\"<ipython-input-111-d88c47a2036c>\"\u001b[0;36m, line \u001b[0;32m6\u001b[0m\n\u001b[0;31m    elif num % 7 == 0:\u001b[0m\n\u001b[0m       ^\u001b[0m\n\u001b[0;31mIndentationError\u001b[0m\u001b[0;31m:\u001b[0m expected an indented block\n"
          ]
        }
      ]
    },
    {
      "cell_type": "code",
      "metadata": {
        "colab": {
          "base_uri": "https://localhost:8080/"
        },
        "id": "kPJtLGDn7qer",
        "outputId": "b2a6d06c-63e5-414c-dd17-c04878acdd83"
      },
      "source": [
        "#Problem03\n",
        "\n",
        "year= int (input(\"Enter the year=\"))\n",
        "if (year % 4 == 0) and (year % 100 !=0) or (year % 400 == 0 ):\n",
        "  print(\"The year is Leap\")\n",
        "else:\n",
        "     \n",
        "     print(\"The year is not Leap\")\n"
      ],
      "execution_count": 80,
      "outputs": [
        {
          "output_type": "stream",
          "text": [
            "Enter the year=2016\n",
            "The year is Leap\n"
          ],
          "name": "stdout"
        }
      ]
    },
    {
      "cell_type": "code",
      "metadata": {
        "colab": {
          "base_uri": "https://localhost:8080/"
        },
        "id": "SahxnIXUIfBf",
        "outputId": "d5a30670-b0b5-4dc0-e276-df60fd465d20"
      },
      "source": [
        "\n",
        "#Problem05\n",
        "\n",
        "num= int (input (\"Enter the number=\"))\n",
        "if num>0:\n",
        "    print(\"The num is Positive\")\n",
        "elif num<0:\n",
        "   print(\"The number is Negative\")\n",
        "\n",
        "else:\n",
        "       \n",
        "       print(\"the number is Zero\")\n"
      ],
      "execution_count": 103,
      "outputs": [
        {
          "output_type": "stream",
          "text": [
            "Enter the number=15\n",
            "The num is Positive\n"
          ],
          "name": "stdout"
        }
      ]
    },
    {
      "cell_type": "code",
      "metadata": {
        "colab": {
          "base_uri": "https://localhost:8080/"
        },
        "id": "9HWFJiikLRJq",
        "outputId": "0f7e61cf-25ab-441b-ed5c-50f760283ce8"
      },
      "source": [
        "\n",
        "#Problem06\n",
        "\n",
        "length= int(input(\"Enter the number=\"))\n",
        "breadth= int(input(\"Enter the number=\"))\n",
        "\n",
        "if  breadth*length:\n",
        "    print(\"Square\")\n",
        "\n",
        "else:\n",
        "   print(\"Not\")"
      ],
      "execution_count": 116,
      "outputs": [
        {
          "output_type": "stream",
          "text": [
            "Enter the number=5\n",
            "Enter the number=10\n",
            "Square\n"
          ],
          "name": "stdout"
        }
      ]
    },
    {
      "cell_type": "code",
      "metadata": {
        "colab": {
          "base_uri": "https://localhost:8080/"
        },
        "id": "-ay-1eMWNErF",
        "outputId": "2173a977-a333-4789-8971-e455985a6b3e"
      },
      "source": [
        "\n",
        "#Problem08\n",
        "\n",
        "num=int(input(\"Enter the number=\"))\n",
        " \n",
        "if num>=45 and num<=50:\n",
        "        print(\" The grade is C\")\n",
        "elif num>=40 and num<=45:\n",
        "     \n",
        "     print(\" The Grade is D\")\n",
        "\n",
        "elif num>=0 and num<=40:\n",
        "     \n",
        "     print(\"The Grade is F\")\n",
        "\n",
        "else:\n",
        "\n",
        "  print(\"Out of Boundery\")\n",
        "\n",
        "\n",
        "  \n",
        " "
      ],
      "execution_count": 128,
      "outputs": [
        {
          "output_type": "stream",
          "text": [
            "Enter the number=48\n",
            " The grade is C\n"
          ],
          "name": "stdout"
        }
      ]
    }
  ]
}